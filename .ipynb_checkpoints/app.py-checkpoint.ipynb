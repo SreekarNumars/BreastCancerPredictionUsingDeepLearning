{
 "cells": [
  {
   "cell_type": "code",
   "execution_count": 1,
   "id": "ff27b099",
   "metadata": {},
   "outputs": [
    {
     "ename": "ModuleNotFoundError",
     "evalue": "No module named 'keras'",
     "output_type": "error",
     "traceback": [
      "\u001b[1;31m---------------------------------------------------------------------------\u001b[0m",
      "\u001b[1;31mModuleNotFoundError\u001b[0m                       Traceback (most recent call last)",
      "Cell \u001b[1;32mIn[1], line 3\u001b[0m\n\u001b[0;32m      1\u001b[0m \u001b[38;5;66;03m# Importing libraries\u001b[39;00m\n\u001b[0;32m      2\u001b[0m \u001b[38;5;28;01mfrom\u001b[39;00m \u001b[38;5;21;01mflask\u001b[39;00m \u001b[38;5;28;01mimport\u001b[39;00m Flask, jsonify, render_template, request\n\u001b[1;32m----> 3\u001b[0m \u001b[38;5;28;01mfrom\u001b[39;00m \u001b[38;5;21;01mkeras\u001b[39;00m\u001b[38;5;21;01m.\u001b[39;00m\u001b[38;5;21;01mmodels\u001b[39;00m \u001b[38;5;28;01mimport\u001b[39;00m load_model\n\u001b[0;32m      4\u001b[0m \u001b[38;5;28;01mfrom\u001b[39;00m \u001b[38;5;21;01mPIL\u001b[39;00m \u001b[38;5;28;01mimport\u001b[39;00m Image\n\u001b[0;32m      5\u001b[0m \u001b[38;5;28;01mimport\u001b[39;00m \u001b[38;5;21;01mnumpy\u001b[39;00m \u001b[38;5;28;01mas\u001b[39;00m \u001b[38;5;21;01mnp\u001b[39;00m\n",
      "\u001b[1;31mModuleNotFoundError\u001b[0m: No module named 'keras'"
     ]
    }
   ],
   "source": [
    "# Importing libraries\n",
    "from flask import Flask, jsonify, render_template, request\n",
    "from tensorflow.keras.models import load_model\n",
    "from PIL import Image\n",
    "import numpy as np\n",
    "import os\n",
    "import io\n",
    "\n",
    "# OS Environment\n",
    "os.environ['TF_CPP_MIN_LOG_LEVEL'] = '3'\n",
    "\n",
    "# Setting up Flask Application\n",
    "app = Flask(__name__,static_folder='Static')\n",
    "\n",
    "# Loading model to backend \n",
    "print(\"Checking backend Garbage Classifier Model\")\n",
    "model_filename = (os.path.join(os.getcwd(),'model','Garbage.h5'))\n",
    "print(model_filename)\n",
    "model = load_model(model_filename)\n",
    "\n",
    "# Routing Homepage\n",
    "@app.route('/')\n",
    "def home():\n",
    "    return render_template('index.html')\n",
    "\n",
    "# Routing Classify page\n",
    "@app.route('/classify')\n",
    "def classify():\n",
    "    return render_template('classify.html')\n",
    "\n",
    "# Backend Model prediction using api\n",
    "@app.route('/predict', methods=['POST'])\n",
    "def predict():\n",
    "    print(request.form)\n",
    "    img = request.files['file'].read()\n",
    "    img = Image.open(io.BytesIO(img))\n",
    "    img = img.resize((64, 64))\n",
    "    img_array = np.array(img) / 255.\n",
    "    img_array = np.expand_dims(img_array, axis=0)\n",
    "    pred = model.predict(img_array)[0]\n",
    "    class_idx = np.argmax(pred)\n",
    "    class_names = ['Cardboard','Glass','Metal','paper','Plastic','Trash']\n",
    "    predicted_class = class_names[class_idx]\n",
    "    return jsonify({'class': predicted_class})\n",
    "\n",
    "# Routing Team page\n",
    "@app.route('/team')\n",
    "def team():\n",
    "    return render_template('team.html')\n",
    "\n",
    "# Routing About page\n",
    "@app.route('/about')\n",
    "def about():\n",
    "    return render_template('about.html')\n",
    "\n",
    "# Running Flask Application in host = 127.0.0.1 port = 5000\n",
    "if __name__ == '__main__':\n",
    "    app.run(host = '127.0.0.1',port = 5000, debug = False)\n"
   ]
  },
  {
   "cell_type": "code",
   "execution_count": null,
   "id": "eaa69656",
   "metadata": {},
   "outputs": [],
   "source": []
  },
  {
   "cell_type": "code",
   "execution_count": null,
   "id": "6374a710",
   "metadata": {},
   "outputs": [],
   "source": []
  }
 ],
 "metadata": {
  "kernelspec": {
   "display_name": "Python 3 (ipykernel)",
   "language": "python",
   "name": "python3"
  },
  "language_info": {
   "codemirror_mode": {
    "name": "ipython",
    "version": 3
   },
   "file_extension": ".py",
   "mimetype": "text/x-python",
   "name": "python",
   "nbconvert_exporter": "python",
   "pygments_lexer": "ipython3",
   "version": "3.11.3"
  }
 },
 "nbformat": 4,
 "nbformat_minor": 5
}
